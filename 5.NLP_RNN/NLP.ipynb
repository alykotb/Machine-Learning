{
  "cells": [
    {
      "cell_type": "markdown",
      "metadata": {
        "id": "eShz3yY41WGT"
      },
      "source": [
        "A data set containing Turkish book descriptions will be used. The dataset contains 15882 book descriptions with 5 categories. The 'book_descriptions.csv' file contains the category and description columns.\n",
        "\n"
      ]
    },
    {
      "cell_type": "code",
      "execution_count": null,
      "metadata": {
        "pycharm": {
          "is_executing": false
        },
        "id": "EEeuKFxz1WGU"
      },
      "outputs": [],
      "source": [
        "import matplotlib.pyplot as plt\n",
        "import pandas as pd\n",
        "import numpy as np"
      ]
    },
    {
      "cell_type": "code",
      "execution_count": null,
      "metadata": {
        "id": "m4GdpMG_1WGV",
        "outputId": "22bcadbc-3410-4b3e-da2b-5aa9c09f7f2c"
      },
      "outputs": [
        {
          "data": {
            "text/html": [
              "<div>\n",
              "<style scoped>\n",
              "    .dataframe tbody tr th:only-of-type {\n",
              "        vertical-align: middle;\n",
              "    }\n",
              "\n",
              "    .dataframe tbody tr th {\n",
              "        vertical-align: top;\n",
              "    }\n",
              "\n",
              "    .dataframe thead th {\n",
              "        text-align: right;\n",
              "    }\n",
              "</style>\n",
              "<table border=\"1\" class=\"dataframe\">\n",
              "  <thead>\n",
              "    <tr style=\"text-align: right;\">\n",
              "      <th></th>\n",
              "      <th>Category</th>\n",
              "      <th>Description</th>\n",
              "    </tr>\n",
              "  </thead>\n",
              "  <tbody>\n",
              "    <tr>\n",
              "      <th>0</th>\n",
              "      <td>0</td>\n",
              "      <td>İnsan... İnsan arayış demektir. Yolcu demektir...</td>\n",
              "    </tr>\n",
              "    <tr>\n",
              "      <th>1</th>\n",
              "      <td>0</td>\n",
              "      <td>HAZİNENİN TEK SAHİBİ Allah’a, kanatlanıp uçman...</td>\n",
              "    </tr>\n",
              "    <tr>\n",
              "      <th>2</th>\n",
              "      <td>0</td>\n",
              "      <td>olduğunu ortaya çıkardı ve eğitim yerinin Düny...</td>\n",
              "    </tr>\n",
              "  </tbody>\n",
              "</table>\n",
              "</div>"
            ],
            "text/plain": [
              "   Category                                        Description\n",
              "0         0  İnsan... İnsan arayış demektir. Yolcu demektir...\n",
              "1         0  HAZİNENİN TEK SAHİBİ Allah’a, kanatlanıp uçman...\n",
              "2         0  olduğunu ortaya çıkardı ve eğitim yerinin Düny..."
            ]
          },
          "execution_count": 225,
          "metadata": {},
          "output_type": "execute_result"
        }
      ],
      "source": [
        "df = pd.DataFrame()\n",
        "df = pd.read_csv('book_descriptions.csv', encoding='utf-8')\n",
        "df.head(3)"
      ]
    },
    {
      "cell_type": "code",
      "execution_count": null,
      "metadata": {
        "id": "8XHofarX1WGX",
        "outputId": "308f28f1-d849-44c3-a261-f919ef51e979"
      },
      "outputs": [
        {
          "name": "stderr",
          "output_type": "stream",
          "text": [
            "[nltk_data] Downloading package punkt to\n",
            "[nltk_data]     C:\\Users\\Aly\\AppData\\Roaming\\nltk_data...\n",
            "[nltk_data]   Package punkt is already up-to-date!\n",
            "[nltk_data] Downloading package stopwords to\n",
            "[nltk_data]     C:\\Users\\Aly\\AppData\\Roaming\\nltk_data...\n",
            "[nltk_data]   Package stopwords is already up-to-date!\n"
          ]
        },
        {
          "data": {
            "text/plain": [
              "True"
            ]
          },
          "execution_count": 3,
          "metadata": {},
          "output_type": "execute_result"
        }
      ],
      "source": [
        "import string\n",
        "import nltk\n",
        "from nltk.tokenize import word_tokenize\n",
        "from nltk.tokenize import sent_tokenize\n",
        "from nltk.corpus import stopwords\n",
        "\n",
        "nltk.download('punkt')\n",
        "nltk.download('stopwords')"
      ]
    },
    {
      "cell_type": "code",
      "execution_count": null,
      "metadata": {
        "id": "R0vdVCQ11WGX"
      },
      "outputs": [],
      "source": [
        "###########Tokenization Part #############\n",
        "description_lines = list()\n",
        "lines = df['Description'].values.tolist()\n",
        "\n",
        "for line in lines:   \n",
        "    tokens = word_tokenize(line)\n",
        "    # convert to lower case\n",
        "    tokens = [w.lower() for w in tokens]\n",
        "    # remove punctuation from each word    \n",
        "    table = str.maketrans('', '', string.punctuation)\n",
        "    stripped = [w.translate(table) for w in tokens]\n",
        "    # remove remaining tokens that are not alphabetic\n",
        "    words = [word for word in stripped if word.isalpha()]\n",
        "    # filter out stop words    \n",
        "    stop_words = set(stopwords.words('turkish'))\n",
        "    words = [w for w in words if not w in stop_words]\n",
        "    description_lines.append(words)"
      ]
    },
    {
      "cell_type": "code",
      "execution_count": null,
      "metadata": {
        "id": "zM1z2BUi1WGY",
        "outputId": "295d2140-c989-4de4-a32e-72baa4b7f736"
      },
      "outputs": [
        {
          "name": "stdout",
          "output_type": "stream",
          "text": [
            "105\n",
            "15882\n"
          ]
        }
      ],
      "source": [
        "print(len(description_lines[40]))\n",
        "print(len(description_lines))"
      ]
    },
    {
      "cell_type": "code",
      "execution_count": null,
      "metadata": {
        "id": "jyqMj2-K1WGZ",
        "outputId": "d1e07d32-95f0-4f3a-d8ce-415ff3b6c1bd"
      },
      "outputs": [
        {
          "name": "stdout",
          "output_type": "stream",
          "text": [
            "135\n"
          ]
        }
      ],
      "source": [
        "max_len = len(description_lines[0])\n",
        "for i in range(1,15882):\n",
        " if(len(description_lines[i])>max_len):\n",
        "   max_len = len(description_lines[i])\n",
        "print(max_len)        "
      ]
    },
    {
      "cell_type": "code",
      "execution_count": null,
      "metadata": {
        "id": "E6Tacaf91WGa"
      },
      "outputs": [],
      "source": [
        "from tensorflow.keras.preprocessing.text import Tokenizer\n",
        "from tensorflow.keras.preprocessing.sequence import pad_sequences\n",
        "\n",
        "TextTokenizer = Tokenizer(num_words=187864)\n",
        "\n",
        "TextTokenizer.fit_on_texts(description_lines)\n",
        "\n",
        "sequences =  TextTokenizer.texts_to_sequences(description_lines)"
      ]
    },
    {
      "cell_type": "code",
      "execution_count": null,
      "metadata": {
        "id": "9SbtRf4f1WGa"
      },
      "outputs": [],
      "source": [
        "word_index = TextTokenizer.word_index"
      ]
    },
    {
      "cell_type": "code",
      "execution_count": null,
      "metadata": {
        "id": "X6j7r2EA1WGb",
        "outputId": "e2f43087-4cb6-4f54-f523-8c197081fd7b"
      },
      "outputs": [
        {
          "name": "stdout",
          "output_type": "stream",
          "text": [
            "Found 187864 unique tokens.\n"
          ]
        }
      ],
      "source": [
        "print('Found %s unique tokens.' % len(word_index))"
      ]
    },
    {
      "cell_type": "code",
      "execution_count": null,
      "metadata": {
        "id": "jcXO8YHk1WGc",
        "outputId": "ebc6e2d4-b6b9-4cc1-ebe0-74fc2322744f"
      },
      "outputs": [
        {
          "name": "stdout",
          "output_type": "stream",
          "text": [
            "187864\n",
            "83\n"
          ]
        }
      ],
      "source": [
        "print(len(word_index))\n",
        "print(word_index['güzel'])"
      ]
    },
    {
      "cell_type": "code",
      "execution_count": null,
      "metadata": {
        "id": "X2dfJvxE1WGc",
        "outputId": "27e219f5-44ec-44c1-b654-f671e0bed4e7"
      },
      "outputs": [
        {
          "name": "stdout",
          "output_type": "stream",
          "text": [
            "Shape of description tensor: (15882, 135)\n",
            "Shape of cateogry tensor: (15882,)\n",
            "[[ 8173  1017  6131  1017 85857  1005 37794  8174   151  4711   274   144\n",
            "   6132  2491 45829  2550 85858   204 85859    65     1 45830    14  4625\n",
            "    243   968 12266   981  1427   371   246     1    57 12909 58940   332\n",
            "   1344    12 32213    29  4828  1731  4263    13  2044  9782 14438   161\n",
            "     48 32213    29    24  7431    36   371   246  1097 12910    52    79\n",
            "   1768   157  2435 25161 10636 58941 15420  3113   752   716    54  1882\n",
            "      5     1   687 22745   895 12911    36   630 85860 85861 58942  2349\n",
            "  58943 58944  1990 58943 45831 10198 85862  6299 85863   621   236   796\n",
            "      0     0     0     0     0     0     0     0     0     0     0     0\n",
            "      0     0     0     0     0     0     0     0     0     0     0     0\n",
            "      0     0     0     0     0     0     0     0     0     0     0     0\n",
            "      0     0     0]\n",
            " [   48    63    27 58945 85864  7245     3 85865  3343 25162  4829   631\n",
            "    728   536  1607   148 37795  4626 85866   311     6 45832   945 85867\n",
            "   2782  4829   143   148  1191   662  1689 12912 22746 85868 12912 11117\n",
            "   3619 11118   474 58946  4830     3  4529 37796   100    42  2581   875\n",
            "     28   245 28157   474   101   220    12   173     3   101   743    90\n",
            "  13662 58947 58947 22747 22747  1894   480   164  1428  9403  7902    80\n",
            "     65 20760     1   115  1145 20761  5695   183  1123  8464   876 58948\n",
            "   9783   180  9058 58949    67  1848  1866  4348    67 37797 17667   474\n",
            "     27    51   158  4035 13663  7031   509   681    90     0     0     0\n",
            "      0     0     0     0     0     0     0     0     0     0     0     0\n",
            "      0     0     0     0     0     0     0     0     0     0     0     0\n",
            "      0     0     0]]\n"
          ]
        }
      ],
      "source": [
        "PaddedSequences = pad_sequences(sequences, maxlen=135,padding='post')\n",
        "category =  df['Category'].values\n",
        "print('Shape of description tensor:', PaddedSequences.shape)\n",
        "print('Shape of cateogry tensor:',cateogry.shape)\n",
        "print(PaddedSequences[:2,:])\n",
        "\n",
        "# PaddedSequencesMatrix= TextTokenizer.sequences_to_matrix(sequences, mode=\"tfidf\")\n",
        "\n",
        "# split the data into a training set and a validation set\n",
        "#indices = np.arange(review_pad.shape[0])\n",
        "#np.random.shuffle(indices)\n",
        "#review_pad = review_pad[indices]\n",
        "#sentiment = sentiment[indices]\n",
        "\n",
        "# Scikit-learn shuffle can be used as well \n",
        "# from sklearn.utils import shuffle\n",
        "# PaddedSequences, category = shuffle(PaddedSequences, category, random_state=0)"
      ]
    },
    {
      "cell_type": "code",
      "execution_count": null,
      "metadata": {
        "id": "jKaaQDyS1WGd",
        "outputId": "421af593-e1f1-4f16-aa02-396bf05b946d"
      },
      "outputs": [
        {
          "name": "stdout",
          "output_type": "stream",
          "text": [
            "[8173, 1017, 6131, 1017, 85857, 1005, 37794, 8174, 151, 4711, 274, 144, 6132, 2491, 45829, 2550, 85858, 204, 85859, 65, 1, 45830, 14, 4625, 243, 968, 12266, 981, 1427, 371, 246, 1, 57, 12909, 58940, 332, 1344, 12, 32213, 29, 4828, 1731, 4263, 13, 2044, 9782, 14438, 161, 48, 32213, 29, 24, 7431, 36, 371, 246, 1097, 12910, 52, 79, 1768, 157, 2435, 25161, 10636, 58941, 15420, 3113, 752, 716, 54, 1882, 5, 1, 687, 22745, 895, 12911, 36, 630, 85860, 85861, 58942, 2349, 58943, 58944, 1990, 58943, 45831, 10198, 85862, 6299, 85863, 621, 236, 796]\n"
          ]
        }
      ],
      "source": [
        "print(sequences[0])"
      ]
    },
    {
      "cell_type": "code",
      "execution_count": null,
      "metadata": {
        "id": "Wq0J4P7O1WGd",
        "outputId": "9e6af657-a682-46ee-8f9f-5b3a7fa4c75d"
      },
      "outputs": [
        {
          "name": "stdout",
          "output_type": "stream",
          "text": [
            "[0. 1. 0. 0. 0. 1. 0. 0. 0. 0. 0. 0. 1. 1. 1. 0. 0. 0. 0. 0. 0. 0. 0. 0.\n",
            " 1. 0. 0. 0. 0. 1.]\n"
          ]
        }
      ],
      "source": [
        "# # print(PaddedSequences.shape)\n",
        "# # print(PaddedSequencesMatrix.shape)\n",
        "# print(PaddedSequences[0])\n",
        "print(PaddedSequencesMatrix[0,:30])\n",
        "# PaddedSequences"
      ]
    },
    {
      "cell_type": "code",
      "execution_count": null,
      "metadata": {
        "id": "ML3hARA61WGd"
      },
      "outputs": [],
      "source": [
        "from sklearn.utils import shuffle\n",
        "PaddedSequences, category = shuffle(PaddedSequences, cateogry, random_state=0)\n",
        "\n",
        "\n",
        "X_train_pad = PaddedSequences[:12705]\n",
        "y_train = category[:12705]\n",
        "X_eval_pad = PaddedSequences[12706:14294]\n",
        "y_eval = category[12706:14294]\n",
        "X_test_pad = PaddedSequences[14295:]\n",
        "y_test = category[14295:]"
      ]
    },
    {
      "cell_type": "code",
      "execution_count": null,
      "metadata": {
        "id": "EGtfWvpy1WGe"
      },
      "outputs": [],
      "source": [
        "############Embedding Part############\n",
        "import gensim \n",
        "\n",
        "EMBEDDING_DIM = 100\n",
        "# train word2vec model\n",
        "model = gensim.models.Word2Vec(sentences=description_lines, vector_size=EMBEDDING_DIM, window=5, workers=4, min_count=20, epochs=10)"
      ]
    },
    {
      "cell_type": "code",
      "execution_count": null,
      "metadata": {
        "id": "R5BLL0tH1WGe"
      },
      "outputs": [],
      "source": [
        "filename = 'imdb_embedding_word2vec.txt'\n",
        "model.wv.save_word2vec_format(filename, binary=False)"
      ]
    },
    {
      "cell_type": "code",
      "execution_count": null,
      "metadata": {
        "id": "JV-pJuso1WGe"
      },
      "outputs": [],
      "source": [
        "import os\n",
        "word2vec_embedings = {}\n",
        "f = open(os.path.join('', 'imdb_embedding_word2vec.txt'),  encoding = \"utf-8\")\n",
        "for line in f:\n",
        "    values = line.split()\n",
        "    word = values[0]\n",
        "    word_vector = np.asarray(values[1:])\n",
        "    word2vec_embedings[word] = word_vector\n",
        "f.close()"
      ]
    },
    {
      "cell_type": "code",
      "execution_count": null,
      "metadata": {
        "id": "rYxjAQ3z1WGe",
        "outputId": "113999ba-1054-40d1-fbc0-c99fc7ce45ab"
      },
      "outputs": [
        {
          "name": "stdout",
          "output_type": "stream",
          "text": [
            "187865\n"
          ]
        }
      ],
      "source": [
        "#this is a lookup dictionary for embedding\n",
        "EMBEDDING_DIM =100\n",
        "num_words = len(word_index) + 1\n",
        "print(num_words)\n",
        "\n",
        "# every index contains the word embedding of the related word\n",
        "embedding_matrix = np.zeros((num_words, EMBEDDING_DIM))\n",
        "\n",
        "for word, i in word_index.items():\n",
        "    if i > num_words:\n",
        "        continue\n",
        "    embedding_vector = word2vec_embedings.get(word)\n",
        "    if embedding_vector is not None:\n",
        "        # words not found in embedding index will be all-zeros.\n",
        "        embedding_matrix[i] = embedding_vector"
      ]
    },
    {
      "cell_type": "code",
      "execution_count": null,
      "metadata": {
        "id": "kOh4vCLZ1WGf"
      },
      "outputs": [],
      "source": [
        "num_words = 187865\n",
        "EMBEDDING_DIM = 100\n",
        "max_length = 135\n"
      ]
    },
    {
      "cell_type": "code",
      "execution_count": null,
      "metadata": {
        "id": "BzGgElb31WGf",
        "outputId": "b5aa89d2-15b4-4bfb-fb75-5c35612608a7"
      },
      "outputs": [
        {
          "name": "stdout",
          "output_type": "stream",
          "text": [
            "Model: \"model_18\"\n",
            "_________________________________________________________________\n",
            " Layer (type)                Output Shape              Param #   \n",
            "=================================================================\n",
            " input_36 (InputLayer)       [(None, 135)]             0         \n",
            "                                                                 \n",
            " embedding_32 (Embedding)    (None, 135, 100)          18786500  \n",
            "                                                                 \n",
            " lstm_46 (LSTM)              (None, 135, 64)           42240     \n",
            "                                                                 \n",
            " lstm_47 (LSTM)              (None, 64)                33024     \n",
            "                                                                 \n",
            " flatten_24 (Flatten)        (None, 64)                0         \n",
            "                                                                 \n",
            " dense_72 (Dense)            (None, 300)               19500     \n",
            "                                                                 \n",
            " dropout_36 (Dropout)        (None, 300)               0         \n",
            "                                                                 \n",
            " dense_73 (Dense)            (None, 100)               30100     \n",
            "                                                                 \n",
            " dropout_37 (Dropout)        (None, 100)               0         \n",
            "                                                                 \n",
            " dense_74 (Dense)            (None, 5)                 505       \n",
            "                                                                 \n",
            "=================================================================\n",
            "Total params: 18,911,869\n",
            "Trainable params: 125,369\n",
            "Non-trainable params: 18,786,500\n",
            "_________________________________________________________________\n"
          ]
        }
      ],
      "source": [
        "import tensorflow\n",
        "from tensorflow.keras import layers \n",
        "from tensorflow.keras.initializers import Constant\n",
        "inputs = tensorflow.keras.Input(shape=(135), dtype=\"int32\")\n",
        "embedding = layers.Embedding(num_words,\n",
        "                            EMBEDDING_DIM,\n",
        "                            embeddings_initializer=Constant(embedding_matrix),\n",
        "                            input_length=135,\n",
        "                            trainable=False) (inputs)\n",
        "rnn_layer = layers.LSTM(64, return_sequences=True)(embedding)\n",
        "rnn_layer = layers.LSTM(64)(rnn_layer)\n",
        "flatten= layers.Flatten()(rnn_layer)\n",
        "x = layers.Dense(300, activation=\"relu\")(flatten)\n",
        "x = layers.Dropout(0.2)(x)\n",
        "x = layers.Dense(100, activation=\"relu\")(x)\n",
        "x = layers.Dropout(0.2)(x)\n",
        "outputs = layers.Dense(5, activation=\"softmax\")(x)\n",
        "model = tensorflow.keras.Model(inputs, outputs)\n",
        "\n",
        "model.compile(loss='sparse_categorical_crossentropy', optimizer='adam', metrics=['accuracy'])\n",
        "model.summary()"
      ]
    },
    {
      "cell_type": "code",
      "execution_count": null,
      "metadata": {
        "id": "myUcqwyG1WGf",
        "outputId": "487fcceb-de31-4a42-c678-832f55fe0005"
      },
      "outputs": [
        {
          "name": "stdout",
          "output_type": "stream",
          "text": [
            "Epoch 1/2\n",
            "398/398 [==============================] - 213s 144ms/step - loss: 0.9811 - accuracy: 0.6223 - val_loss: 0.8336 - val_accuracy: 0.6952\n",
            "Epoch 2/2\n",
            "398/398 [==============================] - 60s 150ms/step - loss: 0.7548 - accuracy: 0.7248 - val_loss: 0.6680 - val_accuracy: 0.7525\n"
          ]
        },
        {
          "data": {
            "text/plain": [
              "<keras.callbacks.History at 0x1cf885089b0>"
            ]
          },
          "execution_count": 229,
          "metadata": {},
          "output_type": "execute_result"
        }
      ],
      "source": [
        "model.fit(X_train_pad, y_train, epochs=2, validation_data=(X_eval_pad, y_eval), verbose=1)"
      ]
    },
    {
      "cell_type": "code",
      "execution_count": null,
      "metadata": {
        "id": "-1gIJS491WGg",
        "outputId": "77ee2956-ed2d-4464-9f6e-4dd45d5ba948"
      },
      "outputs": [
        {
          "name": "stdout",
          "output_type": "stream",
          "text": [
            "4/4 [==============================] - 2s 420ms/step - loss: 0.6554 - accuracy: 0.7732\n",
            "Accuracy: 77.315688\n"
          ]
        }
      ],
      "source": [
        "loss, accuracy = model.evaluate(X_test_pad, y_test, batch_size=512)\n",
        "print('Accuracy: %f' % (accuracy*100))"
      ]
    },
    {
      "cell_type": "code",
      "execution_count": null,
      "metadata": {
        "id": "KiiLszGq1WGg"
      },
      "outputs": [],
      "source": [
        ""
      ]
    }
  ],
  "metadata": {
    "kernelspec": {
      "display_name": "Python 3 (ipykernel)",
      "language": "python",
      "name": "python3"
    },
    "language_info": {
      "codemirror_mode": {
        "name": "ipython",
        "version": 3
      },
      "file_extension": ".py",
      "mimetype": "text/x-python",
      "name": "python",
      "nbconvert_exporter": "python",
      "pygments_lexer": "ipython3",
      "version": "3.7.0"
    },
    "colab": {
      "name": "Ali_Ismail_assignment_3.ipynb",
      "provenance": []
    }
  },
  "nbformat": 4,
  "nbformat_minor": 0
}