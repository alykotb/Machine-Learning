{
  "cells": [
    {
      "cell_type": "markdown",
      "metadata": {
        "id": "A61_ZBXJgOSh"
      },
      "source": [
        "## Assignment 1.a Linear Regression\n",
        "<br> \n",
        "In this notebook, a linear regression model is built to predict Facebook's stock value. Stock data including date, open, high, low, close and value columns are provided in the FB.csv file.\n",
        "<br> \n",
        "The value of the \"date\" column starts with \"2012-05-18\" and ends with \"2019-10-22\". The \"close\" column contains the stock value at the closing. You must add an \"index\" column with value 0,1,2,3,... to this file. In other words,there should be an index value against each date as 0 for the date \"2012-05-18\", 1 for the date \"2012-05-19\", 2 for the \"2012-05-20\" and n (data size) for the \"2019-10-22\". The linear regression model is trained so that the \"index\" column is input and the \"close\" column is output."
      ]
    },
    {
      "cell_type": "markdown",
      "metadata": {
        "id": "GX6GzlDNgOSk"
      },
      "source": [
        "## Data preperation"
      ]
    },
    {
      "cell_type": "code",
      "execution_count": null,
      "metadata": {
        "pycharm": {
          "is_executing": false
        },
        "id": "bhEMj_rXgOSl"
      },
      "outputs": [],
      "source": [
        "# Import necessary modules\n",
        "import numpy as np\n",
        "import pandas as pd\n",
        "import matplotlib.pyplot as plt\n",
        "# import seaborn as sns\n"
      ]
    },
    {
      "cell_type": "code",
      "execution_count": null,
      "metadata": {
        "pycharm": {
          "is_executing": false
        },
        "id": "LuWvhn90gOSm",
        "outputId": "d053e9f0-4a66-4e3f-cd7c-7e585847461b"
      },
      "outputs": [
        {
          "data": {
            "text/html": [
              "<div>\n",
              "<style scoped>\n",
              "    .dataframe tbody tr th:only-of-type {\n",
              "        vertical-align: middle;\n",
              "    }\n",
              "\n",
              "    .dataframe tbody tr th {\n",
              "        vertical-align: top;\n",
              "    }\n",
              "\n",
              "    .dataframe thead th {\n",
              "        text-align: right;\n",
              "    }\n",
              "</style>\n",
              "<table border=\"1\" class=\"dataframe\">\n",
              "  <thead>\n",
              "    <tr style=\"text-align: right;\">\n",
              "      <th></th>\n",
              "      <th>date</th>\n",
              "      <th>open</th>\n",
              "      <th>high</th>\n",
              "      <th>low</th>\n",
              "      <th>close</th>\n",
              "      <th>volume</th>\n",
              "    </tr>\n",
              "  </thead>\n",
              "  <tbody>\n",
              "    <tr>\n",
              "      <th>0</th>\n",
              "      <td>2012-05-18</td>\n",
              "      <td>42.05</td>\n",
              "      <td>45.00</td>\n",
              "      <td>38.00</td>\n",
              "      <td>38.2318</td>\n",
              "      <td>573576400</td>\n",
              "    </tr>\n",
              "    <tr>\n",
              "      <th>1</th>\n",
              "      <td>2012-05-21</td>\n",
              "      <td>36.53</td>\n",
              "      <td>36.66</td>\n",
              "      <td>33.00</td>\n",
              "      <td>34.0300</td>\n",
              "      <td>168192700</td>\n",
              "    </tr>\n",
              "    <tr>\n",
              "      <th>2</th>\n",
              "      <td>2012-05-22</td>\n",
              "      <td>32.61</td>\n",
              "      <td>33.59</td>\n",
              "      <td>30.94</td>\n",
              "      <td>31.0000</td>\n",
              "      <td>101786600</td>\n",
              "    </tr>\n",
              "    <tr>\n",
              "      <th>3</th>\n",
              "      <td>2012-05-23</td>\n",
              "      <td>31.37</td>\n",
              "      <td>32.50</td>\n",
              "      <td>31.36</td>\n",
              "      <td>32.0000</td>\n",
              "      <td>73600000</td>\n",
              "    </tr>\n",
              "    <tr>\n",
              "      <th>4</th>\n",
              "      <td>2012-05-24</td>\n",
              "      <td>32.95</td>\n",
              "      <td>33.21</td>\n",
              "      <td>31.77</td>\n",
              "      <td>33.0300</td>\n",
              "      <td>50237200</td>\n",
              "    </tr>\n",
              "  </tbody>\n",
              "</table>\n",
              "</div>"
            ],
            "text/plain": [
              "         date   open   high    low    close     volume\n",
              "0  2012-05-18  42.05  45.00  38.00  38.2318  573576400\n",
              "1  2012-05-21  36.53  36.66  33.00  34.0300  168192700\n",
              "2  2012-05-22  32.61  33.59  30.94  31.0000  101786600\n",
              "3  2012-05-23  31.37  32.50  31.36  32.0000   73600000\n",
              "4  2012-05-24  32.95  33.21  31.77  33.0300   50237200"
            ]
          },
          "execution_count": 2,
          "metadata": {},
          "output_type": "execute_result"
        }
      ],
      "source": [
        "# Load the data (facebook stock data stored in FB.csv)\n",
        "FB_Data = pd.read_csv(\"FB.csv\", thousands=',')\n",
        "\n",
        "\n",
        "# Print the data table.\n",
        "FB_Data.head(5)\n"
      ]
    },
    {
      "cell_type": "code",
      "execution_count": null,
      "metadata": {
        "pycharm": {
          "is_executing": false
        },
        "id": "N3NDLEzfgOSn",
        "outputId": "ea2d9a11-cdc9-4430-d038-71180e33c784"
      },
      "outputs": [
        {
          "name": "stdout",
          "output_type": "stream",
          "text": [
            "0          0\n",
            "1          1\n",
            "2          2\n",
            "3          3\n",
            "4          4\n",
            "        ... \n",
            "1864    1864\n",
            "1865    1865\n",
            "1866    1866\n",
            "1867    1867\n",
            "1868    1868\n",
            "Name: indexed_input, Length: 1869, dtype: int32\n"
          ]
        }
      ],
      "source": [
        "#Add an integer value for each date such as 0,1,2,3,....\n",
        "#you can add new column such as data['indexed_input']\n",
        "#you can use \"range(0, len(data))\" for data['indexed_input'] \n",
        "\n",
        "\n",
        "indexed_input = np.array(range(len(FB_Data)))\n",
        "\n",
        "FB_Data['indexed_input'] = indexed_input\n",
        "\n",
        "print(FB_Data['indexed_input'])\n",
        "\n",
        "# FB_Data['open'].head(4)\n",
        "\n",
        "# len(FB_Data)\n",
        "\n"
      ]
    },
    {
      "cell_type": "code",
      "execution_count": null,
      "metadata": {
        "id": "Kv-CGIuOgOSo",
        "outputId": "fd588405-1346-45a2-dfa9-30e502dea8ec"
      },
      "outputs": [
        {
          "data": {
            "text/html": [
              "<div>\n",
              "<style scoped>\n",
              "    .dataframe tbody tr th:only-of-type {\n",
              "        vertical-align: middle;\n",
              "    }\n",
              "\n",
              "    .dataframe tbody tr th {\n",
              "        vertical-align: top;\n",
              "    }\n",
              "\n",
              "    .dataframe thead th {\n",
              "        text-align: right;\n",
              "    }\n",
              "</style>\n",
              "<table border=\"1\" class=\"dataframe\">\n",
              "  <thead>\n",
              "    <tr style=\"text-align: right;\">\n",
              "      <th></th>\n",
              "      <th>date</th>\n",
              "      <th>close</th>\n",
              "      <th>indexed_input</th>\n",
              "    </tr>\n",
              "  </thead>\n",
              "  <tbody>\n",
              "    <tr>\n",
              "      <th>0</th>\n",
              "      <td>2012-05-18</td>\n",
              "      <td>38.2318</td>\n",
              "      <td>0</td>\n",
              "    </tr>\n",
              "    <tr>\n",
              "      <th>1</th>\n",
              "      <td>2012-05-21</td>\n",
              "      <td>34.0300</td>\n",
              "      <td>1</td>\n",
              "    </tr>\n",
              "    <tr>\n",
              "      <th>2</th>\n",
              "      <td>2012-05-22</td>\n",
              "      <td>31.0000</td>\n",
              "      <td>2</td>\n",
              "    </tr>\n",
              "    <tr>\n",
              "      <th>3</th>\n",
              "      <td>2012-05-23</td>\n",
              "      <td>32.0000</td>\n",
              "      <td>3</td>\n",
              "    </tr>\n",
              "    <tr>\n",
              "      <th>4</th>\n",
              "      <td>2012-05-24</td>\n",
              "      <td>33.0300</td>\n",
              "      <td>4</td>\n",
              "    </tr>\n",
              "    <tr>\n",
              "      <th>...</th>\n",
              "      <td>...</td>\n",
              "      <td>...</td>\n",
              "      <td>...</td>\n",
              "    </tr>\n",
              "    <tr>\n",
              "      <th>1864</th>\n",
              "      <td>2019-10-16</td>\n",
              "      <td>189.5500</td>\n",
              "      <td>1864</td>\n",
              "    </tr>\n",
              "    <tr>\n",
              "      <th>1865</th>\n",
              "      <td>2019-10-17</td>\n",
              "      <td>190.3900</td>\n",
              "      <td>1865</td>\n",
              "    </tr>\n",
              "    <tr>\n",
              "      <th>1866</th>\n",
              "      <td>2019-10-18</td>\n",
              "      <td>185.8500</td>\n",
              "      <td>1866</td>\n",
              "    </tr>\n",
              "    <tr>\n",
              "      <th>1867</th>\n",
              "      <td>2019-10-21</td>\n",
              "      <td>189.7600</td>\n",
              "      <td>1867</td>\n",
              "    </tr>\n",
              "    <tr>\n",
              "      <th>1868</th>\n",
              "      <td>2019-10-22</td>\n",
              "      <td>182.3400</td>\n",
              "      <td>1868</td>\n",
              "    </tr>\n",
              "  </tbody>\n",
              "</table>\n",
              "<p>1869 rows × 3 columns</p>\n",
              "</div>"
            ],
            "text/plain": [
              "            date     close  indexed_input\n",
              "0     2012-05-18   38.2318              0\n",
              "1     2012-05-21   34.0300              1\n",
              "2     2012-05-22   31.0000              2\n",
              "3     2012-05-23   32.0000              3\n",
              "4     2012-05-24   33.0300              4\n",
              "...          ...       ...            ...\n",
              "1864  2019-10-16  189.5500           1864\n",
              "1865  2019-10-17  190.3900           1865\n",
              "1866  2019-10-18  185.8500           1866\n",
              "1867  2019-10-21  189.7600           1867\n",
              "1868  2019-10-22  182.3400           1868\n",
              "\n",
              "[1869 rows x 3 columns]"
            ]
          },
          "execution_count": 4,
          "metadata": {},
          "output_type": "execute_result"
        }
      ],
      "source": [
        "# Since we only use \"indexed_input\" and \"close\" colums\n",
        "# Drop columns other than \"indexed_input\" and \"close\"\n",
        "# You may want to keep \"date\" as well\n",
        "'''\n",
        "The output can be following :\n",
        "0 \t2012-05-18 \t38.2318 \t0\n",
        "1 \t2012-05-21 \t34.0300 \t1\n",
        "2 \t2012-05-22 \t31.0000 \t2\n",
        "'''\n",
        "FB_Data.drop(['open', 'volume','high','low'], axis = 1)\n",
        "\n"
      ]
    },
    {
      "cell_type": "code",
      "execution_count": null,
      "metadata": {
        "pycharm": {
          "is_executing": false
        },
        "id": "JHAIM2SmgOSo",
        "outputId": "69835f43-418f-4ab8-9308-b93ba4d7b2c5"
      },
      "outputs": [
        {
          "name": "stdout",
          "output_type": "stream",
          "text": [
            "[ 889 1825 1803 ...  263  775 1400]\n",
            "374\n"
          ]
        }
      ],
      "source": [
        "# Split data set on training and test sets with proportions 80/20.\n",
        "# It would be better to use function sample() which returns a random sample of items.\n",
        "\n",
        "train_sample = FB_Data.sample(frac=0.8) \n",
        "test_sample  = FB_Data.drop(train_sample.index)\n",
        "\n",
        "print(train_sample['indexed_input'].values)\n",
        "\n",
        "print(len(test_sample))\n"
      ]
    },
    {
      "cell_type": "code",
      "execution_count": null,
      "metadata": {
        "id": "ISKedK1TgOSp",
        "outputId": "1feddf92-52b4-479b-d17f-4a5f18000eab"
      },
      "outputs": [
        {
          "data": {
            "image/png": "[encoded data removed]",
            "text/plain": [
              "<Figure size 432x288 with 1 Axes>"
            ]
          },
          "metadata": {
            "needs_background": "light"
          },
          "output_type": "display_data"
        },
        {
          "data": {
            "image/png": "[encoded data removed]",
            "text/plain": [
              "<Figure size 432x288 with 1 Axes>"
            ]
          },
          "metadata": {
            "needs_background": "light"
          },
          "output_type": "display_data"
        },
        {
          "data": {
            "image/png": "[encoded data removed]",
            "text/plain": [
              "<Figure size 432x288 with 1 Axes>"
            ]
          },
          "metadata": {
            "needs_background": "light"
          },
          "output_type": "display_data"
        }
      ],
      "source": [
        "# Plot training and testing datasets.\n",
        "x_test = test_sample['indexed_input'].values\n",
        "y_test = test_sample['close'].values\n",
        "l = len(y_test)\n",
        "plt.scatter(x_train,y_train,c='blue',marker = '+')\n",
        "plt.xlabel('x_test')\n",
        "plt.ylabel('y_test')\n",
        "plt.title('Scatter Plot of Testing Data')\n",
        "plt.show()\n",
        "\n",
        "x_train = train_sample['indexed_input'].values\n",
        "y_train = train_sample['close'].values\n",
        "l = len(y_train)\n",
        "plt.scatter(x_train,y_train,c='red',marker = 'x')\n",
        "plt.xlabel('x_train')\n",
        "plt.ylabel('y_train')\n",
        "plt.title('Scatter Plot of Training Data')\n",
        "plt.show()\n",
        "\n",
        "\n",
        "#############Plotting training and test datasets together###################\n",
        "\n",
        "x_train = train_sample['indexed_input'].values\n",
        "y_train = train_sample['close'].values\n",
        "l = len(y_train)\n",
        "plt.scatter(x_train,y_train,c='red',marker = 'x')\n",
        "plt.xlabel('x_train')\n",
        "plt.ylabel('y_train')\n",
        "plt.title('Scatter Plot of Training and Test Data')\n",
        "\n",
        "\n",
        "x_test = test_sample['indexed_input'].values\n",
        "y_test = test_sample['close'].values\n",
        "l = len(y_test)\n",
        "plt.scatter(x_train,y_train,c='blue',marker = '+')\n",
        "plt.xlabel('x_test')\n",
        "plt.ylabel('y_test')\n",
        "plt.title('Scatter Plot of Training and Test Data')\n",
        "plt.show()\n",
        "\n",
        "\n",
        "\n"
      ]
    },
    {
      "cell_type": "markdown",
      "metadata": {
        "id": "_2qf_hjXgOSq"
      },
      "source": [
        "## LinearRegression model from scrach\n",
        " \n"
      ]
    },
    {
      "cell_type": "code",
      "execution_count": null,
      "metadata": {
        "id": "GUOZK7Q7gOSq"
      },
      "outputs": [],
      "source": [
        "# Define cost function\n",
        "def linearRegressionCost(X,y,theta):\n",
        "    \n",
        "    m = len(y)\n",
        "    h= X@theta\n",
        "    cost = 1/(2*m)*(np.sum((h-y)**2))\n",
        "    return cost\n",
        "    \n",
        "\n"
      ]
    },
    {
      "cell_type": "code",
      "execution_count": null,
      "metadata": {
        "id": "gH9mAlqDgOSr"
      },
      "outputs": [],
      "source": [
        "# Define gradient decent function\n",
        "def linearRegressionGradientDescent(X,y,theta,alpha,num_iter):\n",
        "    J_history = []\n",
        "    thetas = []\n",
        "    m = len(y)\n",
        "    for i in range(num_iter):\n",
        "        h = X.dot(theta)\n",
        "        grad = (1/m)*(X.T.dot(h-y))\n",
        "        theta = theta - (alpha*grad)\n",
        "        cost = linearRegressionCost(X,y,theta)\n",
        "        thetas.append(theta)\n",
        "        J_history.append(cost)\n",
        "    \n",
        "    return theta,thetas,J_history   "
      ]
    },
    {
      "cell_type": "code",
      "execution_count": null,
      "metadata": {
        "id": "OoW3gDa_gOSr"
      },
      "outputs": [],
      "source": [
        "# initlize the theta\n",
        "# prepare x_train and y_train\n",
        "# do not forget to append bias terms\n",
        "# reshape and normolize your train and test dadaset\n",
        "\n",
        "x_train = x_train/1000\n",
        "y_train = y_train/1000\n",
        "\n",
        "\n",
        "x_train = np.append(np.ones([x_train.shape[0],1]),x_train.reshape(x_train.shape[0],1),axis=1)\n",
        "y_train = y_train.reshape(x_train.shape[0],1)\n",
        "\n",
        "# print(y_train.shape)\n",
        "\n",
        "theta = np.zeros([x_train.shape[1],1])\n",
        "\n"
      ]
    },
    {
      "cell_type": "code",
      "execution_count": null,
      "metadata": {
        "id": "yAVCxvKPgOSs"
      },
      "outputs": [],
      "source": [
        "# train your model and collect theta and cost function outputs for each iteration\n",
        "theta,thetas,J_history = linearRegressionGradientDescent(x_train,y_train,theta,0.3,800)\n",
        "# print(J_history)"
      ]
    },
    {
      "cell_type": "code",
      "execution_count": null,
      "metadata": {
        "id": "Y-yLq8M7gOSs",
        "outputId": "3efe4c1f-adbf-47f4-f036-3df65e79e2df"
      },
      "outputs": [
        {
          "data": {
            "image/png": "[encoded data removed]",
            "text/plain": [
              "<Figure size 432x288 with 1 Axes>"
            ]
          },
          "metadata": {
            "needs_background": "light"
          },
          "output_type": "display_data"
        }
      ],
      "source": [
        "#plot the cost function\n",
        "plt.plot(J_history[0:800])\n",
        "plt.xlabel(\"Iteration\")\n",
        "plt.ylabel(\"$J(\\Theta)$\")\n",
        "plt.title(\"Cost function using Gradient Descent\")\n",
        "plt.show()\n"
      ]
    },
    {
      "cell_type": "code",
      "execution_count": null,
      "metadata": {
        "id": "F0UK0-KcgOSs"
      },
      "outputs": [],
      "source": [
        "# predict the test datasets\n",
        "def predcit(X,y,theta):\n",
        "    \n",
        "    prediction = X.dot(theta)\n",
        "    return prediction\n",
        "\n",
        "\n",
        "# x_test,X_mean, X_std = featureNormalization(x_test)\n",
        "# y_test,y_mean, y_std = featureNormalization(y_test)\n",
        "\n",
        "\n",
        "   \n",
        "\n",
        "x_test = np.append(np.ones([x_test.shape[0],1]),x_test.reshape(x_test.shape[0],1),axis=1)\n",
        "y_test = y_test.reshape(x_test.shape[0],1)\n",
        "# print(x_test.shape)"
      ]
    },
    {
      "cell_type": "code",
      "execution_count": null,
      "metadata": {
        "id": "XDYlIIgzgOSt",
        "outputId": "f562d5d2-e70c-4547-e1e3-86407e85545c"
      },
      "outputs": [
        {
          "name": "stdout",
          "output_type": "stream",
          "text": [
            "(374, 1)\n"
          ]
        }
      ],
      "source": [
        "predictions = predcit(x_test,y_test,theta)\n",
        "print(predictions.shape)"
      ]
    },
    {
      "cell_type": "code",
      "execution_count": null,
      "metadata": {
        "id": "ade1wAMagOSt",
        "outputId": "425009c1-f787-4d29-b539-c84c5c60affc"
      },
      "outputs": [
        {
          "data": {
            "image/png": "[encoded data removed]",
            "text/plain": [
              "<Figure size 432x288 with 1 Axes>"
            ]
          },
          "metadata": {
            "needs_background": "light"
          },
          "output_type": "display_data"
        }
      ],
      "source": [
        "#plot the test dataset real points and the predictions\n",
        "predictions = predictions.reshape(1,374)\n",
        "x_test = test_sample['indexed_input'].values\n",
        "y_predictions = predictions\n",
        "l = len(y_train)\n",
        "plt.scatter(x_test,y_predictions,c='red',marker = 'x')\n",
        "plt.xlabel('x')\n",
        "plt.ylabel('y')\n",
        "plt.title('Predictions vs Real')\n",
        "\n",
        "# x_test = test_sample['indexed_input'].values\n",
        "# y_test = test_sample['close'].values\n",
        "\n",
        "plt.scatter(x_test,y_test,c='blue',marker = '+')\n",
        "plt.xlabel('x')\n",
        "plt.ylabel('y')\n",
        "plt.title('Predictions vs Real')\n",
        "plt.show()\n",
        "\n"
      ]
    },
    {
      "cell_type": "markdown",
      "metadata": {
        "id": "qXlw1i9cgOSt"
      },
      "source": [
        "## Scikit-learn Linear Regression model\n"
      ]
    },
    {
      "cell_type": "code",
      "execution_count": null,
      "metadata": {
        "id": "fsGsB30RgOSt"
      },
      "outputs": [],
      "source": [
        "import sklearn.linear_model \n",
        "from sklearn.linear_model import LinearRegression\n",
        "\n",
        "x_train = train_sample['indexed_input'].values\n",
        "y_train = train_sample['close'].values\n",
        "\n",
        "x_test = test_sample['indexed_input'].values\n",
        "y_test = test_sample['close'].values\n",
        "\n",
        "x_train = np.append(np.ones([x_train.shape[0],1]),x_train.reshape(x_train.shape[0],1),axis=1)\n",
        "y_train = y_train.reshape(x_train.shape[0],1)\n",
        "\n",
        "x_test = np.append(np.ones([x_test.shape[0],1]),x_test.reshape(x_test.shape[0],1),axis=1)\n",
        "y_test = y_test.reshape(x_test.shape[0],1)\n"
      ]
    },
    {
      "cell_type": "code",
      "execution_count": null,
      "metadata": {
        "id": "Onf7PfyJgOSu"
      },
      "outputs": [],
      "source": [
        "# Use sklearn.linear_model.LinearRegression() as your model\n",
        "# train the model and predict test dataset\n",
        "\n",
        "model = LinearRegression()\n",
        "\n",
        "model.fit(x_train,y_train)\n",
        "precitions = model.predict(x_test)\n",
        "\n",
        "\n"
      ]
    },
    {
      "cell_type": "code",
      "execution_count": null,
      "metadata": {
        "id": "J_PGnvwCgOSu",
        "outputId": "db780198-45e4-4bfc-921c-73245d75cdf0"
      },
      "outputs": [
        {
          "data": {
            "image/png": "[encoded data removed]",
            "text/plain": [
              "<Figure size 432x288 with 1 Axes>"
            ]
          },
          "metadata": {
            "needs_background": "light"
          },
          "output_type": "display_data"
        }
      ],
      "source": [
        "#plot the real data points in test dataset and their predictions\n",
        "predictions = predictions.reshape(1,374)\n",
        "x_test = test_sample['indexed_input'].values\n",
        "y_predictions = predictions\n",
        "l = len(y_train)\n",
        "plt.scatter(x_test,y_predictions,c='red',marker = 'x')\n",
        "plt.xlabel('x')\n",
        "plt.ylabel('y')\n",
        "plt.title('Predictions vs Real')\n",
        "\n",
        "# x_test = test_sample['indexed_input'].values\n",
        "# y_test = test_sample['close'].values\n",
        "\n",
        "plt.scatter(x_test,y_test,c='blue',marker = '+')\n",
        "plt.xlabel('x')\n",
        "plt.ylabel('y')\n",
        "plt.title('Predictions vs Real')\n",
        "plt.show()\n"
      ]
    }
  ],
  "metadata": {
    "interpreter": {
      "hash": "273475548cdab866e2464847af05694adb3cb3ed7aae5690b2029765fc501279"
    },
    "kernelspec": {
      "display_name": "Python 3 (ipykernel)",
      "language": "python",
      "name": "python3"
    },
    "language_info": {
      "codemirror_mode": {
        "name": "ipython",
        "version": 3
      },
      "file_extension": ".py",
      "mimetype": "text/x-python",
      "name": "python",
      "nbconvert_exporter": "python",
      "pygments_lexer": "ipython3",
      "version": "3.7.0"
    },
    "pycharm": {
      "stem_cell": {
        "cell_type": "raw",
        "metadata": {
          "collapsed": false
        },
        "source": []
      }
    },
    "colab": {
      "name": "Assıgnment_1a.ipynb",
      "provenance": []
    }
  },
  "nbformat": 4,
  "nbformat_minor": 0
}